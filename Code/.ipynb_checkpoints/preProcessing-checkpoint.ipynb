{
 "cells": [
  {
   "cell_type": "code",
   "execution_count": 1,
   "metadata": {},
   "outputs": [],
   "source": [
    "# Importing Libraries\n",
    "\n",
    "import numpy as np\n",
    "from matplotlib import pyplot as plt\n",
    "from matplotlib import image as mpimg\n",
    "import os\n",
    "import math\n",
    "\n",
    "import warnings\n",
    "warnings.filterwarnings('ignore')"
   ]
  },
  {
   "cell_type": "code",
   "execution_count": null,
   "metadata": {},
   "outputs": [],
   "source": [
    "def readImage(path):\n",
    "    image=plt.imread(path)\n",
    "    return image\n",
    "\n",
    "def displayImage(image,imageTitle=None):\n",
    "    plt.imshow(image,cmap=\"gray\")\n",
    "    plt.title(imageTitle)\n",
    "    plt.show()\n",
    "    print(\"\")\n",
    "    print(\"\")\n",
    "\n",
    "def displaySubImage(image,imageTitle=None):\n",
    "    plt.imshow(image,cmap=\"gray\")\n",
    "    plt.title(imageTitle)\n",
    "\n",
    "def displayResizedImage(image,imageTitle=None,size=(4,4)):\n",
    "    plt.rcParams['figure.figsize']=size\n",
    "    plt.imshow(image,cmap=\"gray\")\n",
    "    plt.title(imageTitle)\n",
    "    plt.show()\n",
    "    print(\"\")\n",
    "    print(\"\")\n",
    "\n",
    "def displayImageGrid(images,titles,heading=None):\n",
    "    plt.figure(figsize=(16,4))\n",
    "    plt.title('Image Grid')\n",
    "    plt.suptitle(heading)\n",
    "    for i in range(len(images)):\n",
    "        plt.subplot(1,4,i+1)\n",
    "        displaySubImage(images[i],titles[i])\n",
    "    plt.show()\n",
    "    print(\"\")\n",
    "    print(\"\")\n"
   ]
  },
  {
   "cell_type": "code",
   "execution_count": null,
   "metadata": {},
   "outputs": [],
   "source": [
    "def convertGrayscale(image):\n",
    "    image=np.dot(image[...,:3],[0.299,0.587,0.114])\n",
    "    return image"
   ]
  },
  {
   "cell_type": "code",
   "execution_count": null,
   "metadata": {},
   "outputs": [],
   "source": [
    "def bilateralFilter(image,diameter,sigmaColor,sigmaSpace):\n",
    "\n",
    "    image=np.float32(image)\n",
    "\n",
    "    M,N=image.shape[0],image.shape[1]\n",
    "    filteredImage=np.zeros_like(image)\n",
    "\n",
    "    padWidth=diameter//2\n",
    "    paddedImage=np.pad(image,((padWidth,padWidth),(padWidth,padWidth),(0,0)),mode='edge')\n",
    "\n",
    "    gaussianKernel=np.exp(-np.arange(-diameter//2,diameter//2+1)**2/(2*(sigmaSpace**2)))\n",
    "\n",
    "    for x in range(M):\n",
    "        for y in range(N):\n",
    "\n",
    "            window=paddedImage[x:x+diameter,y:y+diameter]\n",
    "            intensityKernel=np.exp(-(window-image[x][y])**2/(2*(sigmaColor**2)))\n",
    "            \n",
    "            weight=gaussianKernel*intensityKernel\n",
    "            filteredImage[x,y]=np.sum(weight*window)/np.sum(weight)\n",
    "\n",
    "\n"
   ]
  }
 ],
 "metadata": {
  "kernelspec": {
   "display_name": "Python 3 (ipykernel)",
   "language": "python",
   "name": "python3"
  }
 },
 "nbformat": 4,
 "nbformat_minor": 2
}
