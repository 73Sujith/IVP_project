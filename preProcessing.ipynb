{
 "cells": [
  {
   "cell_type": "code",
   "execution_count": 1,
   "metadata": {},
   "outputs": [],
   "source": [
    "# Importing Libraries\n",
    "\n",
    "import numpy as np\n",
    "from matplotlib import pyplot as plt\n",
    "from matplotlib import image as mpimg\n",
    "import os\n",
    "import math\n",
    "\n",
    "import warnings\n",
    "warnings.filterwarnings('ignore')"
   ]
  },
  {
   "cell_type": "code",
   "execution_count": null,
   "metadata": {},
   "outputs": [],
   "source": [
    "def readImage(path):\n",
    "    image=plt.imread(path)\n",
    "    return image\n",
    "\n",
    "def displayImage(image,imageTitle=None):\n",
    "    plt.imshow(image,cmap=\"gray\")\n",
    "    plt.title(imageTitle)\n",
    "    plt.show()\n",
    "    print(\"\")\n",
    "    print(\"\")\n",
    "\n",
    "def displaySubImage(image,imageTitle=None):\n",
    "    plt.imshow(image,cmap=\"gray\")\n",
    "    plt.title(imageTitle)\n",
    "\n",
    "def displayResizedImage(image,imageTitle=None,size=(4,4)):\n",
    "    plt.rcParams['figure.figsize']=size\n",
    "    plt.imshow(image,cmap=\"gray\")\n",
    "    plt.title(imageTitle)\n",
    "    plt.show()\n",
    "    print(\"\")\n",
    "    print(\"\")\n",
    "\n",
    "def displayImageGrid(images,titles,heading=None):\n",
    "    plt.figure(figsize=(16,4))\n",
    "    plt.title('Image Grid')\n",
    "    plt.suptitle(heading)\n",
    "    for i in range(len(images)):\n",
    "        plt.subplot(1,4,i+1)\n",
    "        displaySubImage(images[i],titles[i])\n",
    "    plt.show()\n",
    "    print(\"\")\n",
    "    print(\"\")\n",
    "\n",
    "def convertGrayscale(image):\n",
    "    image=np.dot(image[...,:3],[0.299,0.587,0.114])\n",
    "    return image"
   ]
  },
  {
   "cell_type": "code",
   "execution_count": null,
   "metadata": {},
   "outputs": [],
   "source": []
  },
  {
   "cell_type": "code",
   "execution_count": null,
   "metadata": {},
   "outputs": [],
   "source": []
  }
 ],
 "metadata": {
  "kernelspec": {
   "display_name": "Python 3 (ipykernel)",
   "language": "python",
   "name": "python3"
  }
 },
 "nbformat": 4,
 "nbformat_minor": 2
}
